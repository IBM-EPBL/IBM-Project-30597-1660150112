{
 "cells": [
  {
   "cell_type": "code",
   "execution_count": 25,
   "metadata": {
    "id": "kcQYXruL9foE"
   },
   "outputs": [],
   "source": [
    "import numpy as np\n",
    "import tensorflow\n",
    "from tensorflow.keras.models import Sequential\n",
    "from tensorflow.keras import layers\n",
    "from tensorflow.keras.layers import Dense,Flatten\n",
    "from tensorflow.keras.layers import Conv2D,MaxPooling2D\n",
    "from keras.preprocessing.image import ImageDataGenerator"
   ]
  },
  {
   "cell_type": "code",
   "execution_count": 26,
   "metadata": {
    "id": "HgDG_9bc0lRu"
   },
   "outputs": [],
   "source": [
    "train_datagen=ImageDataGenerator(rescale=1./255,shear_range=0.2,zoom_range=0.2,horizontal_flip=True)\n",
    "test_datagen=ImageDataGenerator(rescale=1./255)"
   ]
  },
  {
   "cell_type": "code",
   "execution_count": 27,
   "metadata": {
    "colab": {
     "base_uri": "https://localhost:8080/"
    },
    "id": "xKsbSnrj0php",
    "outputId": "0188d7f2-9fc4-4c11-f8ac-ec2e8f147b23"
   },
   "outputs": [
    {
     "name": "stdout",
     "output_type": "stream",
     "text": [
      "Found 594 images belonging to 6 classes.\n",
      "Found 30 images belonging to 6 classes.\n"
     ]
    }
   ],
   "source": [
    "x_train = train_datagen.flow_from_directory(r'dataset/train',\n",
    "                                            target_size=(64, 64),\n",
    "                                            batch_size=3,\n",
    "                                            color_mode='grayscale',\n",
    "                                            class_mode='categorical')\n",
    "\n",
    "x_test = test_datagen.flow_from_directory(r'dataset/test',\n",
    "                                          target_size=(64, 64),\n",
    "                                          batch_size=3,\n",
    "                                          color_mode='grayscale',\n",
    "                                          class_mode='categorical') "
   ]
  },
  {
   "cell_type": "code",
   "execution_count": 28,
   "metadata": {
    "colab": {
     "base_uri": "https://localhost:8080/"
    },
    "id": "qzzqgoDEPo9-",
    "outputId": "22c30189-43e0-4661-eae8-4284f101637b"
   },
   "outputs": [
    {
     "name": "stdout",
     "output_type": "stream",
     "text": [
      "{'0': 0, '1': 1, '2': 2, '3': 3, '4': 4, '5': 5}\n"
     ]
    }
   ],
   "source": [
    "print(x_train.class_indices)"
   ]
  },
  {
   "cell_type": "code",
   "execution_count": 29,
   "metadata": {
    "id": "bt7PWKg104pO"
   },
   "outputs": [],
   "source": [
    "model=Sequential()"
   ]
  },
  {
   "cell_type": "code",
   "execution_count": 30,
   "metadata": {
    "id": "jdX523q106c2"
   },
   "outputs": [],
   "source": [
    "model.add(Conv2D(32,(3,3),input_shape=(64,64,1),activation='relu'))\n",
    "model.add(MaxPooling2D(pool_size=(2,2)))\n",
    "model.add(Conv2D(32,(3,3),activation='relu'))\n",
    "model.add(MaxPooling2D(pool_size=(2,2)))\n"
   ]
  },
  {
   "cell_type": "code",
   "execution_count": 31,
   "metadata": {
    "id": "d3MhU1_xMOqM"
   },
   "outputs": [],
   "source": [
    "model.add(Flatten())"
   ]
  },
  {
   "cell_type": "code",
   "execution_count": 32,
   "metadata": {
    "id": "skp6_htUMOdm"
   },
   "outputs": [],
   "source": [
    "model.add(Dense(units=512,activation='relu'))\n",
    "model.add(Dense(units=6,activation='softmax'))"
   ]
  },
  {
   "cell_type": "code",
   "execution_count": 33,
   "metadata": {
    "colab": {
     "base_uri": "https://localhost:8080/"
    },
    "id": "2RQJ9NaOMOgF",
    "outputId": "e1a966f9-9a83-4052-d748-4ed94f44a8b8"
   },
   "outputs": [
    {
     "name": "stdout",
     "output_type": "stream",
     "text": [
      "Model: \"sequential_2\"\n",
      "_________________________________________________________________\n",
      " Layer (type)                Output Shape              Param #   \n",
      "=================================================================\n",
      " conv2d_4 (Conv2D)           (None, 62, 62, 32)        320       \n",
      "                                                                 \n",
      " max_pooling2d_4 (MaxPooling  (None, 31, 31, 32)       0         \n",
      " 2D)                                                             \n",
      "                                                                 \n",
      " conv2d_5 (Conv2D)           (None, 29, 29, 32)        9248      \n",
      "                                                                 \n",
      " max_pooling2d_5 (MaxPooling  (None, 14, 14, 32)       0         \n",
      " 2D)                                                             \n",
      "                                                                 \n",
      " flatten_2 (Flatten)         (None, 6272)              0         \n",
      "                                                                 \n",
      " dense_4 (Dense)             (None, 512)               3211776   \n",
      "                                                                 \n",
      " dense_5 (Dense)             (None, 6)                 3078      \n",
      "                                                                 \n",
      "=================================================================\n",
      "Total params: 3,224,422\n",
      "Trainable params: 3,224,422\n",
      "Non-trainable params: 0\n",
      "_________________________________________________________________\n"
     ]
    }
   ],
   "source": [
    "model.summary()"
   ]
  },
  {
   "cell_type": "code",
   "execution_count": 34,
   "metadata": {
    "id": "hM80BMonMOio"
   },
   "outputs": [],
   "source": [
    "model.compile(optimizer='adam',loss='categorical_crossentropy',metrics=['accuracy'])"
   ]
  },
  {
   "cell_type": "code",
   "execution_count": 35,
   "metadata": {
    "colab": {
     "base_uri": "https://localhost:8080/",
     "height": 1000
    },
    "id": "oxSjvqjKMOlL",
    "outputId": "e26360e8-810a-4bc8-df6d-e5f5c6b880ac"
   },
   "outputs": [
    {
     "name": "stdout",
     "output_type": "stream",
     "text": [
      "Epoch 1/25\n"
     ]
    },
    {
     "name": "stderr",
     "output_type": "stream",
     "text": [
      "/tmp/ipykernel_10894/497539377.py:1: UserWarning: `Model.fit_generator` is deprecated and will be removed in a future version. Please use `Model.fit`, which supports generators.\n",
      "  model.fit_generator(x_train,\n"
     ]
    },
    {
     "name": "stdout",
     "output_type": "stream",
     "text": [
      "198/198 [==============================] - 2s 7ms/step - loss: 1.3410 - accuracy: 0.4832 - val_loss: 0.6020 - val_accuracy: 0.8333\n",
      "Epoch 2/25\n",
      "198/198 [==============================] - 1s 7ms/step - loss: 0.6128 - accuracy: 0.7508 - val_loss: 0.4946 - val_accuracy: 0.8667\n",
      "Epoch 3/25\n",
      "198/198 [==============================] - 1s 7ms/step - loss: 0.3632 - accuracy: 0.8603 - val_loss: 0.3688 - val_accuracy: 0.8667\n",
      "Epoch 4/25\n",
      "198/198 [==============================] - 2s 8ms/step - loss: 0.2764 - accuracy: 0.8822 - val_loss: 0.3243 - val_accuracy: 0.8667\n",
      "Epoch 5/25\n",
      "198/198 [==============================] - 2s 10ms/step - loss: 0.2752 - accuracy: 0.8956 - val_loss: 0.2836 - val_accuracy: 0.9000\n",
      "Epoch 6/25\n",
      "198/198 [==============================] - 2s 10ms/step - loss: 0.1503 - accuracy: 0.9562 - val_loss: 0.5894 - val_accuracy: 0.8667\n",
      "Epoch 7/25\n",
      "198/198 [==============================] - 2s 9ms/step - loss: 0.1509 - accuracy: 0.9495 - val_loss: 0.2350 - val_accuracy: 0.9667\n",
      "Epoch 8/25\n",
      "198/198 [==============================] - 2s 9ms/step - loss: 0.0806 - accuracy: 0.9714 - val_loss: 0.1175 - val_accuracy: 0.9667\n",
      "Epoch 9/25\n",
      "198/198 [==============================] - 2s 8ms/step - loss: 0.1202 - accuracy: 0.9596 - val_loss: 0.1432 - val_accuracy: 0.9667\n",
      "Epoch 10/25\n",
      "198/198 [==============================] - 2s 8ms/step - loss: 0.0920 - accuracy: 0.9680 - val_loss: 0.1469 - val_accuracy: 0.9667\n",
      "Epoch 11/25\n",
      "198/198 [==============================] - 2s 8ms/step - loss: 0.0916 - accuracy: 0.9714 - val_loss: 0.1405 - val_accuracy: 0.9000\n",
      "Epoch 12/25\n",
      "198/198 [==============================] - 2s 8ms/step - loss: 0.0460 - accuracy: 0.9832 - val_loss: 0.1581 - val_accuracy: 0.9667\n",
      "Epoch 13/25\n",
      "198/198 [==============================] - 2s 8ms/step - loss: 0.0134 - accuracy: 1.0000 - val_loss: 0.2038 - val_accuracy: 0.9667\n",
      "Epoch 14/25\n",
      "198/198 [==============================] - 2s 9ms/step - loss: 0.0933 - accuracy: 0.9798 - val_loss: 0.2469 - val_accuracy: 0.9000\n",
      "Epoch 15/25\n",
      "198/198 [==============================] - 2s 8ms/step - loss: 0.0525 - accuracy: 0.9764 - val_loss: 0.2752 - val_accuracy: 0.9333\n",
      "Epoch 16/25\n",
      "198/198 [==============================] - 2s 9ms/step - loss: 0.0226 - accuracy: 0.9949 - val_loss: 0.5220 - val_accuracy: 0.9000\n",
      "Epoch 17/25\n",
      "198/198 [==============================] - 2s 9ms/step - loss: 0.0744 - accuracy: 0.9747 - val_loss: 0.4515 - val_accuracy: 0.9000\n",
      "Epoch 18/25\n",
      "198/198 [==============================] - 2s 8ms/step - loss: 0.0499 - accuracy: 0.9865 - val_loss: 0.2603 - val_accuracy: 0.9667\n",
      "Epoch 19/25\n",
      "198/198 [==============================] - 2s 8ms/step - loss: 0.0642 - accuracy: 0.9747 - val_loss: 0.2100 - val_accuracy: 0.9667\n",
      "Epoch 20/25\n",
      "198/198 [==============================] - 2s 8ms/step - loss: 0.0307 - accuracy: 0.9865 - val_loss: 0.3958 - val_accuracy: 0.9333\n",
      "Epoch 21/25\n",
      "198/198 [==============================] - 2s 8ms/step - loss: 0.0375 - accuracy: 0.9848 - val_loss: 0.2296 - val_accuracy: 0.9333\n",
      "Epoch 22/25\n",
      "198/198 [==============================] - 2s 9ms/step - loss: 0.0893 - accuracy: 0.9747 - val_loss: 0.2080 - val_accuracy: 0.9667\n",
      "Epoch 23/25\n",
      "198/198 [==============================] - 2s 9ms/step - loss: 0.0501 - accuracy: 0.9899 - val_loss: 0.1722 - val_accuracy: 0.9667\n",
      "Epoch 24/25\n",
      "198/198 [==============================] - 2s 10ms/step - loss: 0.0110 - accuracy: 0.9983 - val_loss: 0.1475 - val_accuracy: 0.9667\n",
      "Epoch 25/25\n",
      "198/198 [==============================] - 2s 11ms/step - loss: 0.0441 - accuracy: 0.9815 - val_loss: 0.1924 - val_accuracy: 0.9333\n"
     ]
    },
    {
     "data": {
      "text/plain": [
       "<keras.callbacks.History at 0x7f4c87f21d90>"
      ]
     },
     "execution_count": 35,
     "metadata": {},
     "output_type": "execute_result"
    }
   ],
   "source": [
    "\n",
    "model.fit_generator(x_train,\n",
    "                    steps_per_epoch = 594/3 , \n",
    "                    epochs = 25, \n",
    "                    validation_data = x_test,\n",
    "                    validation_steps = 30/3 )"
   ]
  },
  {
   "cell_type": "code",
   "execution_count": 36,
   "metadata": {
    "colab": {
     "base_uri": "https://localhost:8080/",
     "height": 200
    },
    "id": "5Hi3AyTTMOnR",
    "outputId": "e608c5fd-12fa-45ee-dda1-bf94837eb60a"
   },
   "outputs": [],
   "source": [
    "model.save('gesture.h5')\n",
    "model_json=model.to_json()\n",
    "with open(\"model-bw.json\",\"w\") as json_file:json_file.write(model_json)"
   ]
  }
 ],
 "metadata": {
  "colab": {
   "provenance": []
  },
  "kernelspec": {
   "display_name": "venv",
   "language": "python",
   "name": "venv"
  },
  "language_info": {
   "codemirror_mode": {
    "name": "ipython",
    "version": 3
   },
   "file_extension": ".py",
   "mimetype": "text/x-python",
   "name": "python",
   "nbconvert_exporter": "python",
   "pygments_lexer": "ipython3",
   "version": "3.9.12"
  }
 },
 "nbformat": 4,
 "nbformat_minor": 1
}
